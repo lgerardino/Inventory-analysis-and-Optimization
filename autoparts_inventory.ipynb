{
  "nbformat": 4,
  "nbformat_minor": 0,
  "metadata": {
    "colab": {
      "provenance": [],
      "authorship_tag": "ABX9TyMyTlbNu6408VBGnpSdp5kl",
      "include_colab_link": true
    },
    "kernelspec": {
      "name": "python3",
      "display_name": "Python 3"
    },
    "language_info": {
      "name": "python"
    }
  },
  "cells": [
    {
      "cell_type": "markdown",
      "metadata": {
        "id": "view-in-github",
        "colab_type": "text"
      },
      "source": [
        "<a href=\"https://colab.research.google.com/github/lgerardino/Inventory-analysis-and-Optimization/blob/main/autoparts_inventory.ipynb\" target=\"_parent\"><img src=\"https://colab.research.google.com/assets/colab-badge.svg\" alt=\"Open In Colab\"/></a>"
      ]
    },
    {
      "cell_type": "code",
      "execution_count": 4,
      "metadata": {
        "id": "2BV3t-sB9jbQ"
      },
      "outputs": [],
      "source": [
        "\n"
      ]
    },
    {
      "source": [
        "# To access the Excel file, you need to use a library like 'openpyxl' or 'pandas'.\n",
        "# Here's an example using 'pandas':\n",
        "\n",
        "import pandas as pd\n",
        "\n",
        "# Define the file path as a string:\n",
        "file_path = '/content/sample_data/Receiving Data.xlsx'\n",
        "\n",
        "# Read the Excel file into a pandas DataFrame:\n",
        "df = pd.read_excel(file_path)\n",
        "\n",
        "# Now you can work with the data in the DataFrame 'df'.\n",
        "# For example, to display the first 5 rows:\n",
        "print(df.head())"
      ],
      "cell_type": "code",
      "metadata": {
        "colab": {
          "base_uri": "https://localhost:8080/"
        },
        "id": "jcFbosK6_TF8",
        "outputId": "1c497df9-f6f7-42b0-c3df-a2bce64f5d08"
      },
      "execution_count": 2,
      "outputs": [
        {
          "output_type": "stream",
          "name": "stdout",
          "text": [
            "               User          transaction type docnumber Part barcode  bcqty  \\\n",
            "0       Dawn Killby            Start Stocking       NaN  NaN     NaN    NaN   \n",
            "1       Dawn Killby              End Stocking       NaN  NaN     NaN    NaN   \n",
            "2  Janet  Steegstra            Start Stocking       NaN  NaN     NaN    NaN   \n",
            "3       Kaylee Hunt  Start Receiving Transfer       NaN  NaN     NaN    NaN   \n",
            "4       Kaylee Hunt    End Receiving Transfer       NaN  NaN     NaN    NaN   \n",
            "\n",
            "   uomqty  ExtQty  Scans        time started  Bin Zone  duration  \n",
            "0     NaN     NaN    NaN 2024-12-02 06:31:00  NaN  NaN  00:00:05  \n",
            "1     NaN     NaN    NaN 2024-12-02 06:31:00  NaN  NaN  00:00:04  \n",
            "2     NaN     NaN    NaN 2024-12-02 06:34:00  NaN  NaN  00:09:41  \n",
            "3     NaN     NaN    NaN 2024-12-02 06:37:00  NaN  NaN  00:00:04  \n",
            "4     NaN     NaN    NaN 2024-12-02 06:37:00  NaN  NaN  00:00:00  \n"
          ]
        }
      ]
    },
    {
      "cell_type": "code",
      "source": [
        "file_path = '/content/sample_data/Picking Data.xlsx'\n",
        "df2 = pd.read_excel(file_path)\n",
        "print(df2.head())"
      ],
      "metadata": {
        "colab": {
          "base_uri": "https://localhost:8080/"
        },
        "id": "pzzSE4Ls_1iU",
        "outputId": "4f79e7c4-fe2d-49ff-b9ce-82c5576e4674"
      },
      "execution_count": 5,
      "outputs": [
        {
          "output_type": "stream",
          "name": "stdout",
          "text": [
            "             User        transaction type  docnumber Part barcode  bcqty  \\\n",
            "0    Tammy Quaite  Start Picking Transfer        NaN  NaN     NaN    NaN   \n",
            "1   Remi Awogbemi  Start Picking Transfer        NaN  NaN     NaN    NaN   \n",
            "2  Shirley Quaite  Start Picking Transfer        NaN  NaN     NaN    NaN   \n",
            "3    Frank Pawley  Start Picking Transfer        NaN  NaN     NaN    NaN   \n",
            "4    Reuben Booth  Start Picking Transfer        NaN  NaN     NaN    NaN   \n",
            "\n",
            "   uomqty  ExtQty  Scans        time started  Bin Zone  duration  \n",
            "0     NaN     NaN    NaN 2024-12-02 06:23:00  NaN  NaN  00:11:51  \n",
            "1     NaN     NaN    NaN 2024-12-02 06:25:00  NaN  NaN  00:19:01  \n",
            "2     NaN     NaN    NaN 2024-12-02 06:27:00  NaN  NaN  00:17:59  \n",
            "3     NaN     NaN    NaN 2024-12-02 06:28:00  NaN  NaN  00:19:59  \n",
            "4     NaN     NaN    NaN 2024-12-02 06:29:00  NaN  NaN  00:28:32  \n"
          ]
        }
      ]
    },
    {
      "cell_type": "code",
      "source": [
        "file_path = '/content/sample_data/Packing Data.xlsx'\n",
        "df3 = pd.read_excel(file_path)\n",
        "print(df3.head())"
      ],
      "metadata": {
        "colab": {
          "base_uri": "https://localhost:8080/"
        },
        "id": "Dp56q3JgBK4k",
        "outputId": "c73e0d32-9662-4d78-ba3e-8b815ca2b4cd"
      },
      "execution_count": 6,
      "outputs": [
        {
          "output_type": "stream",
          "name": "stdout",
          "text": [
            "                User        transaction type   docnumber     Part  \\\n",
            "0     Jacky Westlake        Start Packing SO         NaN      NaN   \n",
            "1  Cynthia  Van Best        Start Packing SO         NaN      NaN   \n",
            "2  Cynthia  Van Best          End Packing SO         NaN      NaN   \n",
            "3  Cynthia  Van Best  Start Packing Transfer         NaN      NaN   \n",
            "4  Cynthia  Van Best        Packing Transfer  16496830.0  07 35PS   \n",
            "\n",
            "        barcode  bcqty  uomqty  ExtQty  Scans        time started  Bin  Zone  \\\n",
            "0           NaN    NaN     NaN     NaN    NaN 2024-12-02 06:26:00  NaN   NaN   \n",
            "1           NaN    NaN     NaN     NaN    NaN 2024-12-02 06:34:00  NaN   NaN   \n",
            "2           NaN    NaN     NaN     NaN    NaN 2024-12-02 06:34:00  NaN   NaN   \n",
            "3           NaN    NaN     NaN     NaN    NaN 2024-12-02 06:34:00  NaN   NaN   \n",
            "4  707774000000    1.0     1.0     1.0    1.0 2024-12-02 06:34:00  NaN   NaN   \n",
            "\n",
            "   duration  \n",
            "0  00:56:21  \n",
            "1  00:00:05  \n",
            "2  00:00:00  \n",
            "3  00:00:05  \n",
            "4  00:00:10  \n"
          ]
        }
      ]
    },
    {
      "cell_type": "code",
      "source": [
        "file_path = '/content/sample_data/Bin Locations.xlsx'\n",
        "df4 = pd.read_excel(file_path)\n",
        "print(df3.head())"
      ],
      "metadata": {
        "colab": {
          "base_uri": "https://localhost:8080/"
        },
        "id": "Fn51yru4DLLE",
        "outputId": "45e6257c-7a0d-406c-dfac-f6f6d9c33143"
      },
      "execution_count": 7,
      "outputs": [
        {
          "output_type": "stream",
          "name": "stdout",
          "text": [
            "                User        transaction type   docnumber     Part  \\\n",
            "0     Jacky Westlake        Start Packing SO         NaN      NaN   \n",
            "1  Cynthia  Van Best        Start Packing SO         NaN      NaN   \n",
            "2  Cynthia  Van Best          End Packing SO         NaN      NaN   \n",
            "3  Cynthia  Van Best  Start Packing Transfer         NaN      NaN   \n",
            "4  Cynthia  Van Best        Packing Transfer  16496830.0  07 35PS   \n",
            "\n",
            "        barcode  bcqty  uomqty  ExtQty  Scans        time started  Bin  Zone  \\\n",
            "0           NaN    NaN     NaN     NaN    NaN 2024-12-02 06:26:00  NaN   NaN   \n",
            "1           NaN    NaN     NaN     NaN    NaN 2024-12-02 06:34:00  NaN   NaN   \n",
            "2           NaN    NaN     NaN     NaN    NaN 2024-12-02 06:34:00  NaN   NaN   \n",
            "3           NaN    NaN     NaN     NaN    NaN 2024-12-02 06:34:00  NaN   NaN   \n",
            "4  707774000000    1.0     1.0     1.0    1.0 2024-12-02 06:34:00  NaN   NaN   \n",
            "\n",
            "   duration  \n",
            "0  00:56:21  \n",
            "1  00:00:05  \n",
            "2  00:00:00  \n",
            "3  00:00:05  \n",
            "4  00:00:10  \n"
          ]
        }
      ]
    },
    {
      "cell_type": "code",
      "source": [],
      "metadata": {
        "id": "QHeiGMKhS-mE"
      },
      "execution_count": null,
      "outputs": []
    }
  ]
}