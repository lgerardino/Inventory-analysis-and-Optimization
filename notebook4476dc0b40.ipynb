{
  "metadata": {
    "kernelspec": {
      "language": "python",
      "display_name": "Python 3",
      "name": "python3"
    },
    "language_info": {
      "name": "python",
      "version": "3.10.12",
      "mimetype": "text/x-python",
      "codemirror_mode": {
        "name": "ipython",
        "version": 3
      },
      "pygments_lexer": "ipython3",
      "nbconvert_exporter": "python",
      "file_extension": ".py"
    },
    "kaggle": {
      "accelerator": "none",
      "dataSources": [
        {
          "sourceId": 10002792,
          "sourceType": "datasetVersion",
          "datasetId": 6157172
        }
      ],
      "dockerImageVersionId": 30839,
      "isInternetEnabled": true,
      "language": "python",
      "sourceType": "notebook",
      "isGpuEnabled": false
    },
    "colab": {
      "name": "notebook4476dc0b40",
      "provenance": [],
      "include_colab_link": true
    }
  },
  "nbformat_minor": 0,
  "nbformat": 4,
  "cells": [
    {
      "cell_type": "markdown",
      "metadata": {
        "id": "view-in-github",
        "colab_type": "text"
      },
      "source": [
        "<a href=\"https://colab.research.google.com/github/lgerardino/Inventory-analysis-and-Optimization/blob/main/notebook4476dc0b40.ipynb\" target=\"_parent\"><img src=\"https://colab.research.google.com/assets/colab-badge.svg\" alt=\"Open In Colab\"/></a>"
      ]
    },
    {
      "source": [
        "# IMPORTANT: RUN THIS CELL IN ORDER TO IMPORT YOUR KAGGLE DATA SOURCES,\n",
        "# THEN FEEL FREE TO DELETE THIS CELL.\n",
        "# NOTE: THIS NOTEBOOK ENVIRONMENT DIFFERS FROM KAGGLE'S PYTHON\n",
        "# ENVIRONMENT SO THERE MAY BE MISSING LIBRARIES USED BY YOUR\n",
        "# NOTEBOOK.\n",
        "import kagglehub\n",
        "anirudhchauhan_retail_store_inventory_forecasting_dataset_path = kagglehub.dataset_download('anirudhchauhan/retail-store-inventory-forecasting-dataset')\n",
        "\n",
        "print('Data source import complete.')\n"
      ],
      "metadata": {
        "id": "6_fbyvJVUZ-g"
      },
      "cell_type": "code",
      "outputs": [],
      "execution_count": null
    },
    {
      "cell_type": "code",
      "source": [
        "# This Python 3 environment comes with many helpful analytics libraries installed\n",
        "# It is defined by the kaggle/python Docker image: https://github.com/kaggle/docker-python\n",
        "# For example, here's several helpful packages to load\n",
        "\n",
        "import numpy as np # linear algebra\n",
        "import pandas as pd # data processing, CSV file I/O (e.g. pd.read_csv)\n",
        "\n",
        "# Input data files are available in the read-only \"../input/\" directory\n",
        "# For example, running this (by clicking run or pressing Shift+Enter) will list all files under the input directory\n",
        "\n",
        "import os\n",
        "for dirname, _, filenames in os.walk('/kaggle/input'):\n",
        "    for filename in filenames:\n",
        "        print(os.path.join(dirname, filename))\n",
        "\n",
        "# You can write up to 20GB to the current directory (/kaggle/working/) that gets preserved as output when you create a version using \"Save & Run All\"\n",
        "# You can also write temporary files to /kaggle/temp/, but they won't be saved outside of the current session"
      ],
      "metadata": {
        "_uuid": "8f2839f25d086af736a60e9eeb907d3b93b6e0e5",
        "_cell_guid": "b1076dfc-b9ad-4769-8c92-a6c4dae69d19",
        "trusted": true,
        "execution": {
          "iopub.status.busy": "2025-01-25T01:01:57.25508Z",
          "iopub.execute_input": "2025-01-25T01:01:57.255605Z",
          "iopub.status.idle": "2025-01-25T01:01:57.271528Z",
          "shell.execute_reply.started": "2025-01-25T01:01:57.255561Z",
          "shell.execute_reply": "2025-01-25T01:01:57.270408Z"
        },
        "id": "Zo9GDCgyUZ-h",
        "outputId": "a8bfda16-56b8-4753-f640-168da05e2148"
      },
      "outputs": [
        {
          "name": "stdout",
          "text": "/kaggle/input/retail-store-inventory-forecasting-dataset/retail_store_inventory.csv\n",
          "output_type": "stream"
        }
      ],
      "execution_count": null
    },
    {
      "cell_type": "markdown",
      "source": [
        "# read dataset as csv"
      ],
      "metadata": {
        "id": "OXYHLIglUZ-j"
      }
    },
    {
      "cell_type": "code",
      "source": [
        "df = pd.read_csv('/kaggle/input/retail-store-inventory-forecasting-dataset/retail_store_inventory.csv')"
      ],
      "metadata": {
        "trusted": true,
        "execution": {
          "iopub.status.busy": "2025-01-25T01:01:57.272989Z",
          "iopub.execute_input": "2025-01-25T01:01:57.273266Z",
          "iopub.status.idle": "2025-01-25T01:01:57.539697Z",
          "shell.execute_reply.started": "2025-01-25T01:01:57.273243Z",
          "shell.execute_reply": "2025-01-25T01:01:57.538858Z"
        },
        "id": "iyk5pynQUZ-l"
      },
      "outputs": [],
      "execution_count": null
    },
    {
      "cell_type": "code",
      "source": [
        "df"
      ],
      "metadata": {
        "trusted": true,
        "execution": {
          "iopub.status.busy": "2025-01-25T01:01:57.541897Z",
          "iopub.execute_input": "2025-01-25T01:01:57.54231Z",
          "iopub.status.idle": "2025-01-25T01:01:57.580617Z",
          "shell.execute_reply.started": "2025-01-25T01:01:57.542243Z",
          "shell.execute_reply": "2025-01-25T01:01:57.579579Z"
        },
        "id": "1oGJskWfUZ-m",
        "outputId": "4cd372b5-e963-4e38-8bdf-7a5238be878d"
      },
      "outputs": [
        {
          "execution_count": 6,
          "output_type": "execute_result",
          "data": {
            "text/plain": "             Date Store ID Product ID     Category Region  Inventory Level  \\\n0      2022-01-01     S001      P0001    Groceries  North              231   \n1      2022-01-01     S001      P0002         Toys  South              204   \n2      2022-01-01     S001      P0003         Toys   West              102   \n3      2022-01-01     S001      P0004         Toys  North              469   \n4      2022-01-01     S001      P0005  Electronics   East              166   \n...           ...      ...        ...          ...    ...              ...   \n73095  2024-01-01     S005      P0016    Furniture   East               96   \n73096  2024-01-01     S005      P0017         Toys  North              313   \n73097  2024-01-01     S005      P0018     Clothing   West              278   \n73098  2024-01-01     S005      P0019         Toys   East              374   \n73099  2024-01-01     S005      P0020    Groceries   East              117   \n\n       Units Sold  Units Ordered  Demand Forecast  Price  Discount  \\\n0             127             55           135.47  33.50        20   \n1             150             66           144.04  63.01        20   \n2              65             51            74.02  27.99        10   \n3              61            164            62.18  32.72        10   \n4              14            135             9.26  73.64         0   \n...           ...            ...              ...    ...       ...   \n73095           8            127            18.46  73.73        20   \n73096          51            101            48.43  82.57        10   \n73097          36            151            39.65  11.11        10   \n73098         264             21           270.52  53.14        20   \n73099           6            165             2.33  78.39        20   \n\n      Weather Condition  Holiday/Promotion  Competitor Pricing Seasonality  \n0                 Rainy                  0               29.69      Autumn  \n1                 Sunny                  0               66.16      Autumn  \n2                 Sunny                  1               31.32      Summer  \n3                Cloudy                  1               34.74      Autumn  \n4                 Sunny                  0               68.95      Summer  \n...                 ...                ...                 ...         ...  \n73095             Snowy                  0               72.45      Winter  \n73096            Cloudy                  0               83.78      Autumn  \n73097             Rainy                  0               10.91      Winter  \n73098             Rainy                  0               55.80      Spring  \n73099             Rainy                  1               79.52      Spring  \n\n[73100 rows x 15 columns]",
            "text/html": "<div>\n<style scoped>\n    .dataframe tbody tr th:only-of-type {\n        vertical-align: middle;\n    }\n\n    .dataframe tbody tr th {\n        vertical-align: top;\n    }\n\n    .dataframe thead th {\n        text-align: right;\n    }\n</style>\n<table border=\"1\" class=\"dataframe\">\n  <thead>\n    <tr style=\"text-align: right;\">\n      <th></th>\n      <th>Date</th>\n      <th>Store ID</th>\n      <th>Product ID</th>\n      <th>Category</th>\n      <th>Region</th>\n      <th>Inventory Level</th>\n      <th>Units Sold</th>\n      <th>Units Ordered</th>\n      <th>Demand Forecast</th>\n      <th>Price</th>\n      <th>Discount</th>\n      <th>Weather Condition</th>\n      <th>Holiday/Promotion</th>\n      <th>Competitor Pricing</th>\n      <th>Seasonality</th>\n    </tr>\n  </thead>\n  <tbody>\n    <tr>\n      <th>0</th>\n      <td>2022-01-01</td>\n      <td>S001</td>\n      <td>P0001</td>\n      <td>Groceries</td>\n      <td>North</td>\n      <td>231</td>\n      <td>127</td>\n      <td>55</td>\n      <td>135.47</td>\n      <td>33.50</td>\n      <td>20</td>\n      <td>Rainy</td>\n      <td>0</td>\n      <td>29.69</td>\n      <td>Autumn</td>\n    </tr>\n    <tr>\n      <th>1</th>\n      <td>2022-01-01</td>\n      <td>S001</td>\n      <td>P0002</td>\n      <td>Toys</td>\n      <td>South</td>\n      <td>204</td>\n      <td>150</td>\n      <td>66</td>\n      <td>144.04</td>\n      <td>63.01</td>\n      <td>20</td>\n      <td>Sunny</td>\n      <td>0</td>\n      <td>66.16</td>\n      <td>Autumn</td>\n    </tr>\n    <tr>\n      <th>2</th>\n      <td>2022-01-01</td>\n      <td>S001</td>\n      <td>P0003</td>\n      <td>Toys</td>\n      <td>West</td>\n      <td>102</td>\n      <td>65</td>\n      <td>51</td>\n      <td>74.02</td>\n      <td>27.99</td>\n      <td>10</td>\n      <td>Sunny</td>\n      <td>1</td>\n      <td>31.32</td>\n      <td>Summer</td>\n    </tr>\n    <tr>\n      <th>3</th>\n      <td>2022-01-01</td>\n      <td>S001</td>\n      <td>P0004</td>\n      <td>Toys</td>\n      <td>North</td>\n      <td>469</td>\n      <td>61</td>\n      <td>164</td>\n      <td>62.18</td>\n      <td>32.72</td>\n      <td>10</td>\n      <td>Cloudy</td>\n      <td>1</td>\n      <td>34.74</td>\n      <td>Autumn</td>\n    </tr>\n    <tr>\n      <th>4</th>\n      <td>2022-01-01</td>\n      <td>S001</td>\n      <td>P0005</td>\n      <td>Electronics</td>\n      <td>East</td>\n      <td>166</td>\n      <td>14</td>\n      <td>135</td>\n      <td>9.26</td>\n      <td>73.64</td>\n      <td>0</td>\n      <td>Sunny</td>\n      <td>0</td>\n      <td>68.95</td>\n      <td>Summer</td>\n    </tr>\n    <tr>\n      <th>...</th>\n      <td>...</td>\n      <td>...</td>\n      <td>...</td>\n      <td>...</td>\n      <td>...</td>\n      <td>...</td>\n      <td>...</td>\n      <td>...</td>\n      <td>...</td>\n      <td>...</td>\n      <td>...</td>\n      <td>...</td>\n      <td>...</td>\n      <td>...</td>\n      <td>...</td>\n    </tr>\n    <tr>\n      <th>73095</th>\n      <td>2024-01-01</td>\n      <td>S005</td>\n      <td>P0016</td>\n      <td>Furniture</td>\n      <td>East</td>\n      <td>96</td>\n      <td>8</td>\n      <td>127</td>\n      <td>18.46</td>\n      <td>73.73</td>\n      <td>20</td>\n      <td>Snowy</td>\n      <td>0</td>\n      <td>72.45</td>\n      <td>Winter</td>\n    </tr>\n    <tr>\n      <th>73096</th>\n      <td>2024-01-01</td>\n      <td>S005</td>\n      <td>P0017</td>\n      <td>Toys</td>\n      <td>North</td>\n      <td>313</td>\n      <td>51</td>\n      <td>101</td>\n      <td>48.43</td>\n      <td>82.57</td>\n      <td>10</td>\n      <td>Cloudy</td>\n      <td>0</td>\n      <td>83.78</td>\n      <td>Autumn</td>\n    </tr>\n    <tr>\n      <th>73097</th>\n      <td>2024-01-01</td>\n      <td>S005</td>\n      <td>P0018</td>\n      <td>Clothing</td>\n      <td>West</td>\n      <td>278</td>\n      <td>36</td>\n      <td>151</td>\n      <td>39.65</td>\n      <td>11.11</td>\n      <td>10</td>\n      <td>Rainy</td>\n      <td>0</td>\n      <td>10.91</td>\n      <td>Winter</td>\n    </tr>\n    <tr>\n      <th>73098</th>\n      <td>2024-01-01</td>\n      <td>S005</td>\n      <td>P0019</td>\n      <td>Toys</td>\n      <td>East</td>\n      <td>374</td>\n      <td>264</td>\n      <td>21</td>\n      <td>270.52</td>\n      <td>53.14</td>\n      <td>20</td>\n      <td>Rainy</td>\n      <td>0</td>\n      <td>55.80</td>\n      <td>Spring</td>\n    </tr>\n    <tr>\n      <th>73099</th>\n      <td>2024-01-01</td>\n      <td>S005</td>\n      <td>P0020</td>\n      <td>Groceries</td>\n      <td>East</td>\n      <td>117</td>\n      <td>6</td>\n      <td>165</td>\n      <td>2.33</td>\n      <td>78.39</td>\n      <td>20</td>\n      <td>Rainy</td>\n      <td>1</td>\n      <td>79.52</td>\n      <td>Spring</td>\n    </tr>\n  </tbody>\n</table>\n<p>73100 rows × 15 columns</p>\n</div>"
          },
          "metadata": {}
        }
      ],
      "execution_count": null
    },
    {
      "cell_type": "markdown",
      "source": [
        "EDA Exploratory Data Analysis"
      ],
      "metadata": {
        "id": "FoLFYPXnUZ-m"
      }
    },
    {
      "cell_type": "code",
      "source": [
        "df.info()"
      ],
      "metadata": {
        "trusted": true,
        "execution": {
          "iopub.status.busy": "2025-01-25T01:01:57.582173Z",
          "iopub.execute_input": "2025-01-25T01:01:57.582497Z",
          "iopub.status.idle": "2025-01-25T01:01:57.634459Z",
          "shell.execute_reply.started": "2025-01-25T01:01:57.582459Z",
          "shell.execute_reply": "2025-01-25T01:01:57.633486Z"
        },
        "id": "uBSO2NWCUZ-n",
        "outputId": "eaf03de7-15d0-42e8-e7de-9fb4ce4cbb1b"
      },
      "outputs": [
        {
          "name": "stdout",
          "text": "<class 'pandas.core.frame.DataFrame'>\nRangeIndex: 73100 entries, 0 to 73099\nData columns (total 15 columns):\n #   Column              Non-Null Count  Dtype  \n---  ------              --------------  -----  \n 0   Date                73100 non-null  object \n 1   Store ID            73100 non-null  object \n 2   Product ID          73100 non-null  object \n 3   Category            73100 non-null  object \n 4   Region              73100 non-null  object \n 5   Inventory Level     73100 non-null  int64  \n 6   Units Sold          73100 non-null  int64  \n 7   Units Ordered       73100 non-null  int64  \n 8   Demand Forecast     73100 non-null  float64\n 9   Price               73100 non-null  float64\n 10  Discount            73100 non-null  int64  \n 11  Weather Condition   73100 non-null  object \n 12  Holiday/Promotion   73100 non-null  int64  \n 13  Competitor Pricing  73100 non-null  float64\n 14  Seasonality         73100 non-null  object \ndtypes: float64(3), int64(5), object(7)\nmemory usage: 8.4+ MB\n",
          "output_type": "stream"
        }
      ],
      "execution_count": null
    },
    {
      "cell_type": "markdown",
      "source": [
        "df.isna().sum()"
      ],
      "metadata": {
        "id": "YBf2TnzmUZ-n"
      }
    },
    {
      "cell_type": "code",
      "source": [
        "df.isna().sum()"
      ],
      "metadata": {
        "trusted": true,
        "execution": {
          "iopub.status.busy": "2025-01-25T01:01:57.635537Z",
          "iopub.execute_input": "2025-01-25T01:01:57.636044Z",
          "iopub.status.idle": "2025-01-25T01:01:57.677094Z",
          "shell.execute_reply.started": "2025-01-25T01:01:57.635953Z",
          "shell.execute_reply": "2025-01-25T01:01:57.676056Z"
        },
        "id": "458dWSLQUZ-o",
        "outputId": "a4f9ad56-efdc-4291-a427-c7532e6fa9ec"
      },
      "outputs": [
        {
          "execution_count": 8,
          "output_type": "execute_result",
          "data": {
            "text/plain": "Date                  0\nStore ID              0\nProduct ID            0\nCategory              0\nRegion                0\nInventory Level       0\nUnits Sold            0\nUnits Ordered         0\nDemand Forecast       0\nPrice                 0\nDiscount              0\nWeather Condition     0\nHoliday/Promotion     0\nCompetitor Pricing    0\nSeasonality           0\ndtype: int64"
          },
          "metadata": {}
        }
      ],
      "execution_count": null
    },
    {
      "cell_type": "code",
      "source": [
        "df.duplicated(). sum()"
      ],
      "metadata": {
        "trusted": true,
        "execution": {
          "iopub.status.busy": "2025-01-25T01:01:57.678235Z",
          "iopub.execute_input": "2025-01-25T01:01:57.678534Z",
          "iopub.status.idle": "2025-01-25T01:01:57.739402Z",
          "shell.execute_reply.started": "2025-01-25T01:01:57.678512Z",
          "shell.execute_reply": "2025-01-25T01:01:57.738345Z"
        },
        "id": "9R1kZcmaUZ-p",
        "outputId": "e4fdc417-b278-4b32-ef5f-d8b38de69b5d"
      },
      "outputs": [
        {
          "execution_count": 9,
          "output_type": "execute_result",
          "data": {
            "text/plain": "0"
          },
          "metadata": {}
        }
      ],
      "execution_count": null
    },
    {
      "cell_type": "markdown",
      "source": [],
      "metadata": {
        "id": "_vy2XgoVUZ-p"
      }
    },
    {
      "cell_type": "code",
      "source": [
        "import matplotlib.pyplot as plt\n",
        "import seaborn as sns\n",
        "from sklearn.preprocessing import LabelEncoder\n"
      ],
      "metadata": {
        "trusted": true,
        "execution": {
          "iopub.status.busy": "2025-01-25T01:01:57.74047Z",
          "iopub.execute_input": "2025-01-25T01:01:57.740844Z",
          "iopub.status.idle": "2025-01-25T01:01:57.745635Z",
          "shell.execute_reply.started": "2025-01-25T01:01:57.740809Z",
          "shell.execute_reply": "2025-01-25T01:01:57.744609Z"
        },
        "id": "9rveKASCUZ-p"
      },
      "outputs": [],
      "execution_count": null
    },
    {
      "cell_type": "markdown",
      "source": [],
      "metadata": {
        "id": "rhd4Ov97UZ-p"
      }
    },
    {
      "cell_type": "code",
      "source": [
        "df.describe()"
      ],
      "metadata": {
        "trusted": true,
        "execution": {
          "iopub.status.busy": "2025-01-25T01:02:09.608487Z",
          "iopub.execute_input": "2025-01-25T01:02:09.60884Z",
          "iopub.status.idle": "2025-01-25T01:02:09.655755Z",
          "shell.execute_reply.started": "2025-01-25T01:02:09.608814Z",
          "shell.execute_reply": "2025-01-25T01:02:09.65475Z"
        },
        "id": "a0yaRaVwUZ-q",
        "outputId": "7c72c3cc-46be-49b3-addf-e26d2c10f239"
      },
      "outputs": [
        {
          "execution_count": 12,
          "output_type": "execute_result",
          "data": {
            "text/plain": "       Inventory Level    Units Sold  Units Ordered  Demand Forecast  \\\ncount     73100.000000  73100.000000   73100.000000     73100.000000   \nmean        274.469877    136.464870     110.004473       141.494720   \nstd         129.949514    108.919406      52.277448       109.254076   \nmin          50.000000      0.000000      20.000000        -9.990000   \n25%         162.000000     49.000000      65.000000        53.670000   \n50%         273.000000    107.000000     110.000000       113.015000   \n75%         387.000000    203.000000     155.000000       208.052500   \nmax         500.000000    499.000000     200.000000       518.550000   \n\n              Price      Discount  Holiday/Promotion  Competitor Pricing  \ncount  73100.000000  73100.000000       73100.000000        73100.000000  \nmean      55.135108     10.009508           0.497305           55.146077  \nstd       26.021945      7.083746           0.499996           26.191408  \nmin       10.000000      0.000000           0.000000            5.030000  \n25%       32.650000      5.000000           0.000000           32.680000  \n50%       55.050000     10.000000           0.000000           55.010000  \n75%       77.860000     15.000000           1.000000           77.820000  \nmax      100.000000     20.000000           1.000000          104.940000  ",
            "text/html": "<div>\n<style scoped>\n    .dataframe tbody tr th:only-of-type {\n        vertical-align: middle;\n    }\n\n    .dataframe tbody tr th {\n        vertical-align: top;\n    }\n\n    .dataframe thead th {\n        text-align: right;\n    }\n</style>\n<table border=\"1\" class=\"dataframe\">\n  <thead>\n    <tr style=\"text-align: right;\">\n      <th></th>\n      <th>Inventory Level</th>\n      <th>Units Sold</th>\n      <th>Units Ordered</th>\n      <th>Demand Forecast</th>\n      <th>Price</th>\n      <th>Discount</th>\n      <th>Holiday/Promotion</th>\n      <th>Competitor Pricing</th>\n    </tr>\n  </thead>\n  <tbody>\n    <tr>\n      <th>count</th>\n      <td>73100.000000</td>\n      <td>73100.000000</td>\n      <td>73100.000000</td>\n      <td>73100.000000</td>\n      <td>73100.000000</td>\n      <td>73100.000000</td>\n      <td>73100.000000</td>\n      <td>73100.000000</td>\n    </tr>\n    <tr>\n      <th>mean</th>\n      <td>274.469877</td>\n      <td>136.464870</td>\n      <td>110.004473</td>\n      <td>141.494720</td>\n      <td>55.135108</td>\n      <td>10.009508</td>\n      <td>0.497305</td>\n      <td>55.146077</td>\n    </tr>\n    <tr>\n      <th>std</th>\n      <td>129.949514</td>\n      <td>108.919406</td>\n      <td>52.277448</td>\n      <td>109.254076</td>\n      <td>26.021945</td>\n      <td>7.083746</td>\n      <td>0.499996</td>\n      <td>26.191408</td>\n    </tr>\n    <tr>\n      <th>min</th>\n      <td>50.000000</td>\n      <td>0.000000</td>\n      <td>20.000000</td>\n      <td>-9.990000</td>\n      <td>10.000000</td>\n      <td>0.000000</td>\n      <td>0.000000</td>\n      <td>5.030000</td>\n    </tr>\n    <tr>\n      <th>25%</th>\n      <td>162.000000</td>\n      <td>49.000000</td>\n      <td>65.000000</td>\n      <td>53.670000</td>\n      <td>32.650000</td>\n      <td>5.000000</td>\n      <td>0.000000</td>\n      <td>32.680000</td>\n    </tr>\n    <tr>\n      <th>50%</th>\n      <td>273.000000</td>\n      <td>107.000000</td>\n      <td>110.000000</td>\n      <td>113.015000</td>\n      <td>55.050000</td>\n      <td>10.000000</td>\n      <td>0.000000</td>\n      <td>55.010000</td>\n    </tr>\n    <tr>\n      <th>75%</th>\n      <td>387.000000</td>\n      <td>203.000000</td>\n      <td>155.000000</td>\n      <td>208.052500</td>\n      <td>77.860000</td>\n      <td>15.000000</td>\n      <td>1.000000</td>\n      <td>77.820000</td>\n    </tr>\n    <tr>\n      <th>max</th>\n      <td>500.000000</td>\n      <td>499.000000</td>\n      <td>200.000000</td>\n      <td>518.550000</td>\n      <td>100.000000</td>\n      <td>20.000000</td>\n      <td>1.000000</td>\n      <td>104.940000</td>\n    </tr>\n  </tbody>\n</table>\n</div>"
          },
          "metadata": {}
        }
      ],
      "execution_count": null
    },
    {
      "cell_type": "code",
      "source": [],
      "metadata": {
        "trusted": true,
        "id": "gQ39ZRL8UZ-q"
      },
      "outputs": [],
      "execution_count": null
    },
    {
      "cell_type": "code",
      "source": [],
      "metadata": {
        "id": "ROx-CLV6jeiy"
      },
      "execution_count": null,
      "outputs": []
    }
  ]
}